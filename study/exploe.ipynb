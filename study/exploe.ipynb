{
 "cells": [
  {
   "cell_type": "markdown",
   "metadata": {},
   "source": [
    "What is Explode\n",
    "It is Pyspark function that returns a new row for each element in the given array or map. Uses the default column name col for elements in the array and key and value for elements in the map.\n",
    "\n",
    "Variants\n",
    "\n",
    "Explode - When an array is passed to this function, it creates a new row for each element in array. When a map is passed, It creates two new columns one for the key and one for the value and each element in the map split into the rows. If the array or map is null, that row is eliminated.\n",
    "\n",
    "Explode_outer - Unlike explode, If the array or map is null, explode_outer returns null.\n",
    "\n",
    "Posexplode - When array or map is passed, creates positional column also for each element. Ignores the null elements.\n",
    "\n",
    "Posexplode_outer - Unlike posexplode, If the array or map is null, explode_outer returns null."
   ]
  },
  {
   "cell_type": "code",
   "execution_count": null,
   "metadata": {},
   "outputs": [],
   "source": [
    "# Create dataframe with array column\n",
    "array_appliance = [\n",
    "    ('Raja', ['stuff']),\n",
    "    ('Bob', ['stuff', None]),\n",
    "    ('Jenn', ['stuff']),\n",
    "    ('Derek', ['stuff', None]),\n",
    "]\n",
    "\n",
    "df_app = spark.createDataFrame(data=array_appliance, schema= ['name', 'Appliances'])\n",
    "df_app.printSchema()\n",
    "display(df_app)"
   ]
  },
  {
   "cell_type": "code",
   "execution_count": null,
   "metadata": {},
   "outputs": [],
   "source": [
    "# Create dataframe with map column\n",
    "map_brand = [\n",
    "    ('Raja', {'thing': 'stuff'}),\n",
    "    ('Bob', {'thing': 'stuff'}),\n",
    "    ('Jenn', {'thing': 'stuff'}),\n",
    "    ('Derek', None)]\n",
    "\n",
    "df_brand = spark.createDataFrame(data=map_brand, schema= ['name', 'Brand'])\n",
    "df_brand.printSchema()\n",
    "display(df_brand)"
   ]
  },
  {
   "cell_type": "code",
   "execution_count": null,
   "metadata": {},
   "outputs": [],
   "source": [
    "# Explode array field\n",
    "from pyspark.sql.functions import explode\n",
    "\n",
    "df2 = df_app.select(df_app.name, explode(df_app.Appliances))\n",
    "\n",
    "df_app.printSchema()\n",
    "display(df_app)\n",
    "\n",
    "df2.printSchema()\n",
    "display(df2)"
   ]
  },
  {
   "cell_type": "code",
   "execution_count": null,
   "metadata": {},
   "outputs": [],
   "source": [
    "# Explode map field\n",
    "from pyspark.sql.functions import explode\n",
    "\n",
    "df3 = df_brand.select(df_brand.name, explode(df_brand.Brand))\n",
    "\n",
    "df_brand.printSchema()\n",
    "display(df_brand)\n",
    "\n",
    "df3.printSchema()\n",
    "display(df3)"
   ]
  },
  {
   "cell_type": "code",
   "execution_count": null,
   "metadata": {},
   "outputs": [],
   "source": [
    "# Explode outer to consider NULL values\n",
    "from pyspark.sql.functions import explode_outer\n",
    "\n",
    "display(df_app.select(df_app.name, explode_outer(df_app.Appliances)))\n",
    "\n",
    "display(df_brand.select(df_brand.name, explode_outer(df_brand.Brand)))"
   ]
  },
  {
   "cell_type": "code",
   "execution_count": null,
   "metadata": {},
   "outputs": [],
   "source": [
    "# Positional Explode\n",
    "from pyspark.sql.functions import posexplode\n",
    "\n",
    "display(df_app.select(df_app.name, posexplode(df_app.Appliances)))\n",
    "\n",
    "display(df_brand.select(df_brand.name, posexplode(df_brand.Brand)))"
   ]
  },
  {
   "cell_type": "code",
   "execution_count": null,
   "metadata": {},
   "outputs": [],
   "source": [
    "# Positional Explode with Null\n",
    "from pyspark.sql.functions import posexplode_outer\n",
    "\n",
    "display(df_app.select(df_app.name, posexplode_outer(df_app.Appliances)))\n",
    "\n",
    "display(df_brand.select(df_brand.name, posexplode_outer(df_brand.Brand)))"
   ]
  }
 ],
 "metadata": {
  "language_info": {
   "name": "python"
  },
  "orig_nbformat": 4
 },
 "nbformat": 4,
 "nbformat_minor": 2
}
