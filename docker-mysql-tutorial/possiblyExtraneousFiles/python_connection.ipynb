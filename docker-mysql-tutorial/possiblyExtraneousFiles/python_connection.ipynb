{
 "cells": [
  {
   "cell_type": "code",
   "execution_count": 10,
   "metadata": {},
   "outputs": [
    {
     "name": "stderr",
     "output_type": "stream",
     "text": [
      "c:\\Users\\ephra\\AppData\\Local\\Programs\\Python\\Python39\\lib\\site-packages\\mysql\\connector\\abstracts.py:130: SyntaxWarning: \"is\" with a literal. Did you mean \"==\"?\n",
      "  if group is 'connector_python':\n",
      "c:\\Users\\ephra\\AppData\\Local\\Programs\\Python\\Python39\\lib\\site-packages\\mysql\\connector\\abstracts.py:130: SyntaxWarning: \"is\" with a literal. Did you mean \"==\"?\n",
      "  if group is 'connector_python':\n"
     ]
    },
    {
     "ename": "AttributeError",
     "evalue": "Unsupported argument 'wait_timeout'",
     "output_type": "error",
     "traceback": [
      "\u001b[1;31m---------------------------------------------------------------------------\u001b[0m",
      "\u001b[1;31mKeyError\u001b[0m                                  Traceback (most recent call last)",
      "File \u001b[1;32mc:\\Users\\ephra\\AppData\\Local\\Programs\\Python\\Python39\\lib\\site-packages\\mysql\\connector\\abstracts.py:301\u001b[0m, in \u001b[0;36mMySQLConnectionAbstract.config\u001b[1;34m(self, **kwargs)\u001b[0m\n\u001b[0;32m    300\u001b[0m \u001b[39mtry\u001b[39;00m:\n\u001b[1;32m--> 301\u001b[0m     DEFAULT_CONFIGURATION[key]\n\u001b[0;32m    302\u001b[0m \u001b[39mexcept\u001b[39;00m \u001b[39mKeyError\u001b[39;00m:\n",
      "\u001b[1;31mKeyError\u001b[0m: 'wait_timeout'",
      "\nDuring handling of the above exception, another exception occurred:\n",
      "\u001b[1;31mAttributeError\u001b[0m                            Traceback (most recent call last)",
      "\u001b[1;32mc:\\Users\\ephra\\OneDrive\\Documents\\GitHub\\docker-mysql-tutorial\\python_connection.ipynb Cell 1'\u001b[0m in \u001b[0;36m<cell line: 5>\u001b[1;34m()\u001b[0m\n\u001b[0;32m      <a href='vscode-notebook-cell:/c%3A/Users/ephra/OneDrive/Documents/GitHub/docker-mysql-tutorial/python_connection.ipynb#ch0000000?line=1'>2</a>\u001b[0m \u001b[39mimport\u001b[39;00m \u001b[39mmysql\u001b[39;00m\u001b[39m.\u001b[39;00m\u001b[39mconnector\u001b[39;00m\n\u001b[0;32m      <a href='vscode-notebook-cell:/c%3A/Users/ephra/OneDrive/Documents/GitHub/docker-mysql-tutorial/python_connection.ipynb#ch0000000?line=3'>4</a>\u001b[0m \u001b[39m# Create a connection to the database\u001b[39;00m\n\u001b[1;32m----> <a href='vscode-notebook-cell:/c%3A/Users/ephra/OneDrive/Documents/GitHub/docker-mysql-tutorial/python_connection.ipynb#ch0000000?line=4'>5</a>\u001b[0m cnx \u001b[39m=\u001b[39m mysql\u001b[39m.\u001b[39;49mconnector\u001b[39m.\u001b[39;49mconnect(\n\u001b[0;32m      <a href='vscode-notebook-cell:/c%3A/Users/ephra/OneDrive/Documents/GitHub/docker-mysql-tutorial/python_connection.ipynb#ch0000000?line=5'>6</a>\u001b[0m                               user\u001b[39m=\u001b[39;49m\u001b[39m'\u001b[39;49m\u001b[39mroot\u001b[39;49m\u001b[39m'\u001b[39;49m,\n\u001b[0;32m      <a href='vscode-notebook-cell:/c%3A/Users/ephra/OneDrive/Documents/GitHub/docker-mysql-tutorial/python_connection.ipynb#ch0000000?line=6'>7</a>\u001b[0m                               password\u001b[39m=\u001b[39;49m\u001b[39m'\u001b[39;49m\u001b[39mpassword123\u001b[39;49m\u001b[39m'\u001b[39;49m, \n\u001b[0;32m      <a href='vscode-notebook-cell:/c%3A/Users/ephra/OneDrive/Documents/GitHub/docker-mysql-tutorial/python_connection.ipynb#ch0000000?line=7'>8</a>\u001b[0m                               host\u001b[39m=\u001b[39;49m\u001b[39m'\u001b[39;49m\u001b[39m127.0.0.1\u001b[39;49m\u001b[39m'\u001b[39;49m, \n\u001b[0;32m      <a href='vscode-notebook-cell:/c%3A/Users/ephra/OneDrive/Documents/GitHub/docker-mysql-tutorial/python_connection.ipynb#ch0000000?line=8'>9</a>\u001b[0m                               database \u001b[39m=\u001b[39;49m \u001b[39m\"\u001b[39;49m\u001b[39mmydb\u001b[39;49m\u001b[39m\"\u001b[39;49m,\n\u001b[0;32m     <a href='vscode-notebook-cell:/c%3A/Users/ephra/OneDrive/Documents/GitHub/docker-mysql-tutorial/python_connection.ipynb#ch0000000?line=9'>10</a>\u001b[0m                               port \u001b[39m=\u001b[39;49m \u001b[39m'\u001b[39;49m\u001b[39m336\u001b[39;49m\u001b[39m'\u001b[39;49m,\n\u001b[0;32m     <a href='vscode-notebook-cell:/c%3A/Users/ephra/OneDrive/Documents/GitHub/docker-mysql-tutorial/python_connection.ipynb#ch0000000?line=10'>11</a>\u001b[0m                               connect_timeout\u001b[39m=\u001b[39;49m\u001b[39m1000\u001b[39;49m ,\n\u001b[0;32m     <a href='vscode-notebook-cell:/c%3A/Users/ephra/OneDrive/Documents/GitHub/docker-mysql-tutorial/python_connection.ipynb#ch0000000?line=11'>12</a>\u001b[0m                               wait_timeout\u001b[39m=\u001b[39;49m\u001b[39m28800\u001b[39;49m ,\n\u001b[0;32m     <a href='vscode-notebook-cell:/c%3A/Users/ephra/OneDrive/Documents/GitHub/docker-mysql-tutorial/python_connection.ipynb#ch0000000?line=12'>13</a>\u001b[0m                               interactive_timeout\u001b[39m=\u001b[39;49m\u001b[39m28800\u001b[39;49m\n\u001b[0;32m     <a href='vscode-notebook-cell:/c%3A/Users/ephra/OneDrive/Documents/GitHub/docker-mysql-tutorial/python_connection.ipynb#ch0000000?line=13'>14</a>\u001b[0m                               )\n\u001b[0;32m     <a href='vscode-notebook-cell:/c%3A/Users/ephra/OneDrive/Documents/GitHub/docker-mysql-tutorial/python_connection.ipynb#ch0000000?line=14'>15</a>\u001b[0m \u001b[39m# Create a cursor object from the connection to pass a query to\u001b[39;00m\n\u001b[0;32m     <a href='vscode-notebook-cell:/c%3A/Users/ephra/OneDrive/Documents/GitHub/docker-mysql-tutorial/python_connection.ipynb#ch0000000?line=15'>16</a>\u001b[0m cursor \u001b[39m=\u001b[39m cnx\u001b[39m.\u001b[39mcursor()\n",
      "File \u001b[1;32mc:\\Users\\ephra\\AppData\\Local\\Programs\\Python\\Python39\\lib\\site-packages\\mysql\\connector\\__init__.py:179\u001b[0m, in \u001b[0;36mconnect\u001b[1;34m(*args, **kwargs)\u001b[0m\n\u001b[0;32m    177\u001b[0m     \u001b[39mreturn\u001b[39;00m CMySQLConnection(\u001b[39m*\u001b[39margs, \u001b[39m*\u001b[39m\u001b[39m*\u001b[39mkwargs)\n\u001b[0;32m    178\u001b[0m \u001b[39melse\u001b[39;00m:\n\u001b[1;32m--> 179\u001b[0m     \u001b[39mreturn\u001b[39;00m MySQLConnection(\u001b[39m*\u001b[39margs, \u001b[39m*\u001b[39m\u001b[39m*\u001b[39mkwargs)\n",
      "File \u001b[1;32mc:\\Users\\ephra\\AppData\\Local\\Programs\\Python\\Python39\\lib\\site-packages\\mysql\\connector\\connection.py:95\u001b[0m, in \u001b[0;36mMySQLConnection.__init__\u001b[1;34m(self, *args, **kwargs)\u001b[0m\n\u001b[0;32m     92\u001b[0m \u001b[39mself\u001b[39m\u001b[39m.\u001b[39m_pool_config_version \u001b[39m=\u001b[39m \u001b[39mNone\u001b[39;00m\n\u001b[0;32m     94\u001b[0m \u001b[39mif\u001b[39;00m \u001b[39mlen\u001b[39m(kwargs) \u001b[39m>\u001b[39m \u001b[39m0\u001b[39m:\n\u001b[1;32m---> 95\u001b[0m     \u001b[39mself\u001b[39m\u001b[39m.\u001b[39mconnect(\u001b[39m*\u001b[39m\u001b[39m*\u001b[39mkwargs)\n",
      "File \u001b[1;32mc:\\Users\\ephra\\AppData\\Local\\Programs\\Python\\Python39\\lib\\site-packages\\mysql\\connector\\abstracts.py:713\u001b[0m, in \u001b[0;36mMySQLConnectionAbstract.connect\u001b[1;34m(self, **kwargs)\u001b[0m\n\u001b[0;32m    706\u001b[0m \u001b[39m\"\"\"Connect to the MySQL server\u001b[39;00m\n\u001b[0;32m    707\u001b[0m \n\u001b[0;32m    708\u001b[0m \u001b[39mThis method sets up the connection to the MySQL server. If no\u001b[39;00m\n\u001b[0;32m    709\u001b[0m \u001b[39marguments are given, it will use the already configured or default\u001b[39;00m\n\u001b[0;32m    710\u001b[0m \u001b[39mvalues.\u001b[39;00m\n\u001b[0;32m    711\u001b[0m \u001b[39m\"\"\"\u001b[39;00m\n\u001b[0;32m    712\u001b[0m \u001b[39mif\u001b[39;00m \u001b[39mlen\u001b[39m(kwargs) \u001b[39m>\u001b[39m \u001b[39m0\u001b[39m:\n\u001b[1;32m--> 713\u001b[0m     \u001b[39mself\u001b[39m\u001b[39m.\u001b[39mconfig(\u001b[39m*\u001b[39m\u001b[39m*\u001b[39mkwargs)\n\u001b[0;32m    715\u001b[0m \u001b[39mself\u001b[39m\u001b[39m.\u001b[39mdisconnect()\n\u001b[0;32m    716\u001b[0m \u001b[39mself\u001b[39m\u001b[39m.\u001b[39m_open_connection()\n",
      "File \u001b[1;32mc:\\Users\\ephra\\AppData\\Local\\Programs\\Python\\Python39\\lib\\site-packages\\mysql\\connector\\abstracts.py:303\u001b[0m, in \u001b[0;36mMySQLConnectionAbstract.config\u001b[1;34m(self, **kwargs)\u001b[0m\n\u001b[0;32m    301\u001b[0m     DEFAULT_CONFIGURATION[key]\n\u001b[0;32m    302\u001b[0m \u001b[39mexcept\u001b[39;00m \u001b[39mKeyError\u001b[39;00m:\n\u001b[1;32m--> 303\u001b[0m     \u001b[39mraise\u001b[39;00m \u001b[39mAttributeError\u001b[39;00m(\u001b[39m\"\u001b[39m\u001b[39mUnsupported argument \u001b[39m\u001b[39m'\u001b[39m\u001b[39m{0}\u001b[39;00m\u001b[39m'\u001b[39m\u001b[39m\"\u001b[39m\u001b[39m.\u001b[39mformat(key))\n\u001b[0;32m    304\u001b[0m \u001b[39m# SSL Configuration\u001b[39;00m\n\u001b[0;32m    305\u001b[0m \u001b[39mif\u001b[39;00m key\u001b[39m.\u001b[39mstartswith(\u001b[39m'\u001b[39m\u001b[39mssl_\u001b[39m\u001b[39m'\u001b[39m):\n",
      "\u001b[1;31mAttributeError\u001b[0m: Unsupported argument 'wait_timeout'"
     ]
    }
   ],
   "source": [
    "import datetime\n",
    "import mysql.connector\n",
    "\n",
    "# Create a connection to the database\n",
    "cnx = mysql.connector.connect(\n",
    "                              user='root',\n",
    "                              password='password123', \n",
    "                              host='127.0.0.1', \n",
    "                              database = \"mydb\",\n",
    "                              port = '3306'\n",
    "                              )\n",
    "# Create a cursor object from the connection to pass a query to\n",
    "cursor = cnx.cursor()\n",
    "\n",
    "# Our query to be sent\n",
    "query = (\"SELECT * FROM movie\")\n",
    "# Execute the query\n",
    "cursor.execute(query)\n",
    "# Loop through what we got back from the cursor\n",
    "for (movie_id, title, release_year) in cursor:\n",
    "  print(\"{}, The movie {} released in {}\".format(\n",
    "    movie_id, title, release_year))\n",
    "\n",
    "# Our query to be sent\n",
    "query = (\"INSERT INTO `mydb`.`movie` (`movie_id`, `title`, `release_year`) VALUES (DEFAULT, 'Doctor Strange: Multiverse of Madness', '2022');\")\n",
    "# Execute the query\n",
    "cursor.execute(query)\n",
    "\n",
    "# Our query to be sent\n",
    "query = (\"SELECT * FROM movie\")\n",
    "# Execute the query\n",
    "cursor.execute(query)\n",
    "# Loop through what we got back from the cursor\n",
    "for (movie_id, title, release_year) in cursor:\n",
    "  print(\"{}, The movie {} released in {}\".format(\n",
    "    movie_id, title, release_year))\n",
    "\n",
    "# Clean up\n",
    "cursor.close()"
   ]
  }
 ],
 "metadata": {
  "kernelspec": {
   "display_name": "Python 3.9.7 64-bit",
   "language": "python",
   "name": "python3"
  },
  "language_info": {
   "codemirror_mode": {
    "name": "ipython",
    "version": 3
   },
   "file_extension": ".py",
   "mimetype": "text/x-python",
   "name": "python",
   "nbconvert_exporter": "python",
   "pygments_lexer": "ipython3",
   "version": "3.9.7"
  },
  "orig_nbformat": 4,
  "vscode": {
   "interpreter": {
    "hash": "236c9764290fda94f4fde65c8dedf2d0cde52b0ad7f6bdd21a0a2959b1b81786"
   }
  }
 },
 "nbformat": 4,
 "nbformat_minor": 2
}
